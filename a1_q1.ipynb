{
 "cells": [
  {
   "cell_type": "code",
   "execution_count": 1,
   "metadata": {
    "collapsed": true
   },
   "outputs": [],
   "source": [
    "\"\"\"\n",
    "Simple TensorFlow exercises\n",
    "You should thoroughly test your code\n",
    "\"\"\"\n",
    "\n",
    "import tensorflow as tf\n",
    "\n",
    "###############################################################################\n",
    "# 1a: Create two random 0-d tensors x and y of any distribution.\n",
    "# Create a TensorFlow object that returns x + y if x > y, and x - y otherwise.\n",
    "# Hint: look up tf.cond()\n",
    "# I do the first problem for you\n",
    "###############################################################################\n",
    "\n",
    "x = tf.random_uniform([])  # Empty array as shape creates a scalar.\n",
    "y = tf.random_uniform([])\n",
    "out = tf.cond(tf.greater(x, y), lambda: tf.add(x, y), lambda: tf.subtract(x, y))"
   ]
  },
  {
   "cell_type": "code",
   "execution_count": 2,
   "metadata": {},
   "outputs": [
    {
     "name": "stdout",
     "output_type": "stream",
     "text": [
      "Tensor(\"random_uniform_2:0\", shape=(), dtype=float32)\n",
      "[0.10830498, -0.38102031, 0.48932528]\n"
     ]
    }
   ],
   "source": [
    "###############################################################################\n",
    "# 1b: Create two 0-d tensors x and y randomly selected from the range [-1, 1).\n",
    "# Return x + y if x < y, x - y if x > y, 0 otherwise.\n",
    "# Hint: Look up tf.case().\n",
    "###############################################################################\n",
    "\n",
    "# YOUR CODE\n",
    "x = tf.random_uniform([], minval= -1, maxval= 1)\n",
    "y = tf.random_uniform([], minval= -1, maxval= 1)\n",
    "out = tf.case({tf.less(x, y): lambda: tf.add(x, y), \n",
    "            tf.greater(x, y): lambda: tf.subtract(x, y)}, \n",
    "            default=lambda: tf.constant(0.0), exclusive=True)\n",
    "print(x)\n",
    "sess = tf.InteractiveSession()\n",
    "print(sess.run([x, y, out]))"
   ]
  },
  {
   "cell_type": "markdown",
   "metadata": {},
   "source": [
    " ```\n",
    "    trandom_uniform(\n",
    "    shape,\n",
    "    minval=0,\n",
    "    maxval=None,\n",
    "    dtype=tf.float32,\n",
    "    seed=None,\n",
    "    name=None\n",
    ")\n",
    "```\n",
    "* The generated values follow a uniform distribution in the range [minval, maxval). The lower bound minval is included in the range, while the upper bound maxval is excluded.\n",
    "* For floats, the default range is [0, 1). For ints, at least maxval must be specified explicitly.\n"
   ]
  },
  {
   "cell_type": "code",
   "execution_count": 3,
   "metadata": {},
   "outputs": [
    {
     "name": "stdout",
     "output_type": "stream",
     "text": [
      "Tensor(\"Const:0\", shape=(2, 3), dtype=int32)\n",
      "[[ 0 -2 -1]\n",
      " [ 0  1  2]]\n",
      "[[0 0 0]\n",
      " [0 0 0]]\n",
      "[[ True False False]\n",
      " [ True False False]]\n"
     ]
    }
   ],
   "source": [
    "###############################################################################\n",
    "# 1c: Create the tensor x of the value [[0, -2, -1], [0, 1, 2]] \n",
    "# and y as a tensor of zeros with the same shape as x.\n",
    "# Return a boolean tensor that yields Trues if x equals y element-wise.\n",
    "# Hint: Look up tf.equal().\n",
    "###############################################################################\n",
    "\n",
    "# YOUR CODE\n",
    "x = tf.constant( [[0, -2, -1], [0, 1, 2]] )\n",
    "y = tf.zeros_like(x)\n",
    "out = tf.equal(x, y)\n",
    "\n",
    "print(x)\n",
    "sess = tf.InteractiveSession()\n",
    "print(sess.run(x))\n",
    "print(sess.run(y))\n",
    "print(sess.run(out))"
   ]
  },
  {
   "cell_type": "code",
   "execution_count": 4,
   "metadata": {},
   "outputs": [
    {
     "name": "stdout",
     "output_type": "stream",
     "text": [
      "[[ 2]\n",
      " [ 4]\n",
      " [ 6]\n",
      " [ 8]\n",
      " [ 9]\n",
      " [11]\n",
      " [14]\n",
      " [16]\n",
      " [18]]\n",
      "[[ 31.19073486]\n",
      " [ 30.97266006]\n",
      " [ 38.08450317]\n",
      " [ 34.94445419]\n",
      " [ 34.45999146]\n",
      " [ 36.01657104]\n",
      " [ 30.20379066]\n",
      " [ 33.71149445]\n",
      " [ 36.05556488]]\n",
      "[ 31.19073486  30.97266006  38.08450317  34.94445419  34.45999146\n",
      "  36.01657104  30.20379066  33.71149445  36.05556488]\n"
     ]
    }
   ],
   "source": [
    "###############################################################################\n",
    "# 1d: Create the tensor x of value \n",
    "# [29.05088806,  27.61298943,  31.19073486,  29.35532951,\n",
    "#  30.97266006,  26.67541885,  38.08450317,  20.74983215,\n",
    "#  34.94445419,  34.45999146,  29.06485367,  36.01657104,\n",
    "#  27.88236427,  20.56035233,  30.20379066,  29.51215172,\n",
    "#  33.71149445,  28.59134293,  36.05556488,  28.66994858].\n",
    "# Get the indices of elements in x whose values are greater than 30.\n",
    "# Hint: Use tf.where().\n",
    "# Then extract elements whose values are greater than 30.\n",
    "# Hint: Use tf.gather().\n",
    "###############################################################################\n",
    "\n",
    "# YOUR CODE\n",
    "x = tf.constant( [29.05088806,  27.61298943,  31.19073486,  29.35532951,\n",
    "  30.97266006,  26.67541885,  38.08450317,  20.74983215,\n",
    "  34.94445419,  34.45999146,  29.06485367,  36.01657104,\n",
    "  27.88236427,  20.56035233,  30.20379066,  29.51215172,\n",
    "  33.71149445,  28.59134293,  36.05556488,  28.66994858])\n",
    "indices = tf.where(tf.greater(x, 30))\n",
    "out = tf.gather(x, indices)\n",
    "out1 = tf.boolean_mask(x, tf.greater(x, 30))  ## using tf.boolean_mask\n",
    "\n",
    "sess = tf.InteractiveSession()\n",
    "print(sess.run(indices))\n",
    "print(sess.run(out))\n",
    "print(sess.run(out1))"
   ]
  },
  {
   "cell_type": "code",
   "execution_count": 5,
   "metadata": {
    "scrolled": true
   },
   "outputs": [
    {
     "name": "stdout",
     "output_type": "stream",
     "text": [
      "[[1 0 0 0 0 0]\n",
      " [0 2 0 0 0 0]\n",
      " [0 0 3 0 0 0]\n",
      " [0 0 0 4 0 0]\n",
      " [0 0 0 0 5 0]\n",
      " [0 0 0 0 0 6]]\n",
      "\n",
      "[[1 0 0 0 0 0]\n",
      " [0 2 0 0 0 0]\n",
      " [0 0 3 0 0 0]\n",
      " [0 0 0 4 0 0]\n",
      " [0 0 0 0 5 0]\n",
      " [0 0 0 0 0 6]]\n"
     ]
    }
   ],
   "source": [
    "###############################################################################\n",
    "# 1e: Create a diagnoal 2-d tensor of size 6 x 6 with the diagonal values of 1,\n",
    "# 2, ..., 6\n",
    "# Hint: Use tf.range() and tf.diag().\n",
    "###############################################################################\n",
    "\n",
    "# YOUR CODE\n",
    "\n",
    "#values = tf.range(1, 7)\n",
    "out = tf.diag(list(range(1,7)))\n",
    "out1 = tf.diag(tf.range(1,7))\n",
    "\n",
    "sess = tf.InteractiveSession()\n",
    "print(sess.run(out))\n",
    "print()\n",
    "print(sess.run(out1))"
   ]
  },
  {
   "cell_type": "code",
   "execution_count": 6,
   "metadata": {},
   "outputs": [
    {
     "name": "stdout",
     "output_type": "stream",
     "text": [
      "10.6445\n"
     ]
    }
   ],
   "source": [
    "###############################################################################\n",
    "# 1f: Create a random 2-d tensor of size 10 x 10 from any distribution.\n",
    "# Calculate its determinant.\n",
    "# Hint: Look at tf.matrix_determinant().\n",
    "###############################################################################\n",
    "\n",
    "# YOUR CODE\n",
    "x = tf.random_normal([10,10], mean=0, stddev=1)\n",
    "out = tf.matrix_determinant(x)\n",
    "\n",
    "\n",
    "sess = tf.InteractiveSession()\n",
    "print(sess.run(out))"
   ]
  },
  {
   "cell_type": "code",
   "execution_count": 7,
   "metadata": {},
   "outputs": [
    {
     "name": "stdout",
     "output_type": "stream",
     "text": [
      "Unique(y=array([ 5,  2,  3, 10,  6,  4,  1,  0,  9], dtype=int16), idx=array([0, 1, 2, 0, 3, 4, 1, 2, 5, 1, 6, 6, 7, 8]))\n",
      "[ 5  2  3 10  6  4  1  0  9]\n",
      "[0 1 2 0 3 4 1 2 5 1 6 6 7 8]\n",
      "[9]\n",
      "9\n"
     ]
    }
   ],
   "source": [
    "###############################################################################\n",
    "# 1g: Create tensor x with value [5, 2, 3, 5, 10, 6, 2, 3, 4, 2, 1, 1, 0, 9].\n",
    "# Return the unique elements in x\n",
    "# Hint: use tf.unique(). Keep in mind that tf.unique() returns a tuple.\n",
    "###############################################################################\n",
    "\n",
    "# YOUR CODE\n",
    "x = tf.constant([5, 2, 3, 5, 10, 6, 2, 3, 4, 2, 1, 1, 0, 9], dtype=tf.int16)\n",
    "out = tf.unique(x)\n",
    "y = out[0]\n",
    "idx = out[1]\n",
    "shape_y = tf.shape(y)\n",
    "size_y = tf.size(y)\n",
    "\n",
    "sess = tf.InteractiveSession()\n",
    "print(sess.run(out))\n",
    "print(sess.run(y))\n",
    "print(sess.run(idx))\n",
    "print(sess.run(shape_y))\n",
    "print(sess.run(size_y))"
   ]
  },
  {
   "cell_type": "code",
   "execution_count": 8,
   "metadata": {},
   "outputs": [],
   "source": [
    "###############################################################################\n",
    "# 1h: Create two tensors x and y of shape 300 from any normal distribution,\n",
    "# as long as they are from the same distribution.\n",
    "# Use tf.cond() to return:\n",
    "# - The mean squared error of (x - y) if the average of all elements in (x - y)\n",
    "#   is negative, or\n",
    "# - The sum of absolute value of all elements in the tensor (x - y) otherwise.\n",
    "# Hint: see the Huber loss function in the lecture slides 3.\n",
    "###############################################################################\n",
    "\n",
    "# YOUR CODE\n",
    "x = tf.random_normal([300], mean=0, stddev=1)\n",
    "y = tf.random_normal([300], mean=0, stddev=1)\n",
    "mse = tf.reduce_mean(tf.square(tf.subtract(x, y)))\n",
    "sav = tf.reduce_sum(tf.abs(tf.subtract(x, y)))\n",
    "avg = tf.reduce_mean(tf.subtract(x,y))\n",
    "\n",
    "out = tf.cond(tf.less(avg, 0), lambda: avg, lambda:  sav)"
   ]
  },
  {
   "cell_type": "code",
   "execution_count": 9,
   "metadata": {},
   "outputs": [
    {
     "name": "stdout",
     "output_type": "stream",
     "text": [
      "[2.1149266, 354.47269, 0.03868562, 354.47269]\n"
     ]
    }
   ],
   "source": [
    "sess = tf.InteractiveSession()\n",
    "print(sess.run([mse, sav, avg, out]))"
   ]
  },
  {
   "cell_type": "code",
   "execution_count": null,
   "metadata": {
    "collapsed": true
   },
   "outputs": [],
   "source": []
  }
 ],
 "metadata": {
  "kernelspec": {
   "display_name": "Python 3",
   "language": "python",
   "name": "python3"
  },
  "language_info": {
   "codemirror_mode": {
    "name": "ipython",
    "version": 3
   },
   "file_extension": ".py",
   "mimetype": "text/x-python",
   "name": "python",
   "nbconvert_exporter": "python",
   "pygments_lexer": "ipython3",
   "version": "3.5.4"
  }
 },
 "nbformat": 4,
 "nbformat_minor": 2
}

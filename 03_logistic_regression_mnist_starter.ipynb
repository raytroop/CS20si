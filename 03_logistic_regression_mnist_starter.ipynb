{
 "cells": [
  {
   "cell_type": "code",
   "execution_count": 1,
   "metadata": {},
   "outputs": [
    {
     "name": "stdout",
     "output_type": "stream",
     "text": [
      "Extracting ./data/mnist\\train-images-idx3-ubyte.gz\n",
      "Extracting ./data/mnist\\train-labels-idx1-ubyte.gz\n",
      "Extracting ./data/mnist\\t10k-images-idx3-ubyte.gz\n",
      "Extracting ./data/mnist\\t10k-labels-idx1-ubyte.gz\n"
     ]
    }
   ],
   "source": [
    "\"\"\" Starter code for logistic regression model to solve OCR task \n",
    "with MNIST in TensorFlow\n",
    "MNIST dataset: yann.lecun.com/exdb/mnist/\n",
    "Author: Chip Huyen\n",
    "Prepared for the class CS 20SI: \"TensorFlow for Deep Learning Research\"\n",
    "cs20si.stanford.edu\n",
    "\"\"\"\n",
    "import os\n",
    "os.environ['TF_CPP_MIN_LOG_LEVEL']='2'\n",
    "\n",
    "import numpy as np\n",
    "import tensorflow as tf\n",
    "from tensorflow.examples.tutorials.mnist import input_data\n",
    "import time\n",
    "\n",
    "# Step 1: Read in data\n",
    "# using TF Learn's built in function to load MNIST data to the folder data/mnist\n",
    "mnist = input_data.read_data_sets('./data/mnist', one_hot=True) "
   ]
  },
  {
   "cell_type": "code",
   "execution_count": 2,
   "metadata": {
    "collapsed": true
   },
   "outputs": [],
   "source": [
    "# Define paramaters for the model\n",
    "learning_rate = 0.01\n",
    "\n",
    "tf.reset_default_graph()\n",
    "# Step 2: create placeholders for features and labels\n",
    "# each image in the MNIST data is of shape 28*28 = 784\n",
    "# therefore, each image is represented with a 1x784 tensor\n",
    "# there are 10 classes for each image, corresponding to digits 0 - 9. \n",
    "# Features are of the type float, and labels are of the type int\n",
    "X =  tf.placeholder(dtype= tf.float32, shape=(None, 784), name ='input_X')\n",
    "Y = tf.placeholder(dtype=tf.int16, shape=(None, 10), name = 'output_Y')\n",
    "# Step 3: create weights and bias\n",
    "# weights and biases are initialized to 0\n",
    "# shape of w depends on the dimension of X and Y so that Y = X * w + b\n",
    "# shape of b depends on Y\n",
    "#w = tf.Variable(tf.zeros([784,10]), name = 'weight')\n",
    "w = tf.Variable(tf.random_normal(shape=[784, 10], stddev=0.01), name='weights')  ## initialize all to zero or nomal  doesnt matter here\n",
    "\n",
    "b = tf.Variable(tf.zeros([1, 10]), name ='bias')\n",
    "\n",
    "# Step 4: build model\n",
    "# the model that returns the logits.\n",
    "# this logits will be later passed through softmax layer\n",
    "# to get the probability distribution of possible label of the image\n",
    "# DO NOT DO SOFTMAX HERE\n",
    "logits = tf.matmul(X, w) + b\n",
    "\n",
    "# Step 5: define loss function\n",
    "# use cross entropy loss of the real labels with the softmax of logits\n",
    "# use the method:\n",
    "# tf.nn.softmax_cross_entropy_with_logits(logits, Y)\n",
    "# then use tf.reduce_mean to get the mean loss of the batch\n",
    "Y_predicted = tf.argmax(logits, axis= 1)\n",
    "Y_true = tf.argmax(Y, axis= 1)\n",
    "correct_preds = tf.reduce_sum(tf.cast(tf.equal(Y_predicted, Y_true), tf.float32))\n",
    "\n",
    "xentropy = tf.nn.softmax_cross_entropy_with_logits(logits=logits, labels=Y, name='loss')\n",
    "loss = tf.reduce_mean(xentropy) # computes the mean over all the examples in the batch\n",
    "\n",
    "# Step 6: define training op\n",
    "# using gradient descent to minimize loss\n",
    "optimizer = tf.train.GradientDescentOptimizer(learning_rate= learning_rate).minimize(loss)"
   ]
  },
  {
   "cell_type": "code",
   "execution_count": 3,
   "metadata": {
    "collapsed": true
   },
   "outputs": [],
   "source": [
    "batch_size = 96\n",
    "n_epochs = 10"
   ]
  },
  {
   "cell_type": "code",
   "execution_count": 4,
   "metadata": {},
   "outputs": [
    {
     "name": "stdout",
     "output_type": "stream",
     "text": [
      "Average loss epoch 0: 1.1685101960922455\n",
      "Average loss epoch 1: 0.6554624157456251\n",
      "Average loss epoch 2: 0.5448721821283127\n",
      "Average loss epoch 3: 0.4935684443249569\n",
      "Average loss epoch 4: 0.4603578448816613\n",
      "Average loss epoch 5: 0.4384937681830846\n",
      "Average loss epoch 6: 0.4208638999689292\n",
      "Average loss epoch 7: 0.40927609517336727\n",
      "Average loss epoch 8: 0.3974391644026016\n",
      "Average loss epoch 9: 0.3905230011087614\n",
      "Total time: 13.946876049041748 seconds\n",
      "Optimization Finished!\n",
      "Accuracy 0.9027\n"
     ]
    }
   ],
   "source": [
    "with tf.Session() as sess:\n",
    "    start_time = time.time()\n",
    "    sess.run(tf.global_variables_initializer())\t\n",
    "    n_batches = int(mnist.train.num_examples/batch_size)\n",
    "    for i in range(n_epochs): # train the model n_epochs times\n",
    "        total_loss = 0\n",
    "\n",
    "        for _ in range(n_batches):\n",
    "            X_batch, Y_batch = mnist.train.next_batch(batch_size)\n",
    "            # TO-DO: run optimizer + fetch loss_batch\n",
    "            _, loss_batch = sess.run([optimizer, loss], feed_dict={X:X_batch, Y: Y_batch})\n",
    "            \n",
    "            total_loss += loss_batch\n",
    "        print('Average loss epoch {0}: {1}'.format(i, total_loss/n_batches))\n",
    "\n",
    "    print('Total time: {0} seconds'.format(time.time() - start_time))\n",
    "\n",
    "    print('Optimization Finished!') # should be around 0.35 after 25 epochs\n",
    "    \n",
    "    \n",
    "    n_batches = int(mnist.test.num_examples/batch_size)\n",
    "    total_correct_preds = 0\n",
    "    \n",
    "    for i in range(n_batches):\n",
    "        X_batch, Y_batch = mnist.test.next_batch(batch_size)\n",
    "        correct_preds_batch = sess.run(correct_preds, feed_dict={X: X_batch, Y:Y_batch})\n",
    "        #accuracy_batch = sess.run([accuracy], feed_dict={X: X_batch, Y:Y_batch})  \n",
    "        #This way, accuracy_bath will be a list\n",
    "        \n",
    "        #print(type(accuracy_batch))\n",
    "        total_correct_preds += correct_preds_batch\n",
    "    \n",
    "    print('Accuracy {0}'.format(total_correct_preds/mnist.test.num_examples))"
   ]
  },
  {
   "cell_type": "markdown",
   "metadata": {
    "collapsed": true
   },
   "source": [
    "```python\n",
    "w = tf.Variable(tf.zeros([784,10]), name = 'weight')\n",
    "```\n",
    "```\n",
    "Average loss epoch 0: 1.1667942075462607\n",
    "Average loss epoch 1: 0.6569620260408708\n",
    "Average loss epoch 2: 0.5480158749472844\n",
    "Average loss epoch 3: 0.4924163765736393\n",
    "Average loss epoch 4: 0.4585406290744985\n",
    "Average loss epoch 5: 0.43732188983292847\n",
    "Average loss epoch 6: 0.4233226356962761\n",
    "Average loss epoch 7: 0.4066769373114709\n",
    "Average loss epoch 8: 0.3994443095647372\n",
    "Average loss epoch 9: 0.38840923929860544\n",
    "Total time: 12.172384023666382 seconds\n",
    "Optimization Finished!\n",
    "Accuracy 0.9013\n",
    "```"
   ]
  },
  {
   "cell_type": "code",
   "execution_count": null,
   "metadata": {
    "collapsed": true
   },
   "outputs": [],
   "source": []
  }
 ],
 "metadata": {
  "kernelspec": {
   "display_name": "Python 3",
   "language": "python",
   "name": "python3"
  },
  "language_info": {
   "codemirror_mode": {
    "name": "ipython",
    "version": 3
   },
   "file_extension": ".py",
   "mimetype": "text/x-python",
   "name": "python",
   "nbconvert_exporter": "python",
   "pygments_lexer": "ipython3",
   "version": "3.5.4"
  }
 },
 "nbformat": 4,
 "nbformat_minor": 2
}

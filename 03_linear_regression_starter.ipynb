{
 "cells": [
  {
   "cell_type": "code",
   "execution_count": 1,
   "metadata": {
    "collapsed": true
   },
   "outputs": [],
   "source": [
    "\n",
    "\"\"\" Simple linear regression example in TensorFlow\n",
    "This program tries to predict the number of thefts from \n",
    "the number of fire in the city of Chicago\n",
    "Author: Chip Huyen\n",
    "Prepared for the class CS 20SI: \"TensorFlow for Deep Learning Research\"\n",
    "cs20si.stanford.edu\n",
    "\"\"\"\n",
    "import os\n",
    "os.environ['TF_CPP_MIN_LOG_LEVEL']='2'\n",
    "\n",
    "import numpy as np\n",
    "import matplotlib.pyplot as plt\n",
    "import tensorflow as tf\n",
    "import xlrd\n",
    "\n",
    "import utils\n",
    "\n",
    "DATA_FILE = 'data/fire_theft.xls'\n",
    "\n",
    "# Step 1: read in data from the .xls file\n",
    "book = xlrd.open_workbook(DATA_FILE, encoding_override=\"utf-8\")\n",
    "sheet = book.sheet_by_index(0)\n",
    "data = np.asarray([sheet.row_values(i) for i in range(1, sheet.nrows)])\n",
    "n_samples = sheet.nrows - 1"
   ]
  },
  {
   "cell_type": "code",
   "execution_count": 2,
   "metadata": {
    "collapsed": true
   },
   "outputs": [],
   "source": [
    "tf.reset_default_graph()"
   ]
  },
  {
   "cell_type": "code",
   "execution_count": 3,
   "metadata": {
    "collapsed": true
   },
   "outputs": [],
   "source": [
    "# Step 2: create placeholders for input X (number of fire) and label Y (number of theft)\n",
    "X = tf.placeholder(tf.float32, name='X')\n",
    "Y = tf.placeholder(tf.float32, name='Y')\n",
    "\n",
    "# Step 3: create weight and bias, initialized to 0\n",
    "w = tf.Variable(0, dtype= tf.float32, name='weights')\n",
    "b = tf.Variable(0, dtype= tf.float32, name='bias')\n",
    "\n",
    "# Step 4: build model to predict Y\n",
    "Y_predicted = tf.add(X*w, b, name='Y_pred') \n",
    "\n",
    "# Step 5: use the square error as the loss function\n",
    "loss = tf.reduce_sum(tf.square(Y - Y_predicted), name='loss')\n",
    "\n",
    "\n",
    "# Step 6: using gradient descent with learning rate of 0.01 to minimize loss\n",
    "optimizer = tf.train.GradientDescentOptimizer(learning_rate=0.001).minimize(loss)   ## lr = 0.01 is too big to converge\n"
   ]
  },
  {
   "cell_type": "code",
   "execution_count": 4,
   "metadata": {
    "scrolled": true
   },
   "outputs": [
    {
     "name": "stdout",
     "output_type": "stream",
     "text": [
      "Epoch 0: 2069.632077968724\n",
      "Epoch 1: 2117.0124027045676\n",
      "Epoch 2: 2092.302715009167\n",
      "Epoch 3: 2068.508299712269\n",
      "Epoch 4: 2045.59097691377\n",
      "Epoch 5: 2023.51466578529\n",
      "Epoch 6: 2002.2447984701112\n",
      "Epoch 7: 1981.7480356388148\n",
      "Epoch 8: 1961.9942731161912\n",
      "Epoch 9: 1942.9520601381857\n",
      "Epoch 10: 1924.5930879137345\n",
      "Epoch 11: 1906.8898473151382\n",
      "Epoch 12: 1889.8164801984317\n",
      "Epoch 13: 1873.347572792144\n",
      "Epoch 14: 1857.4589788810838\n",
      "Epoch 15: 1842.1277029727187\n",
      "Epoch 16: 1827.3322633700002\n",
      "Epoch 17: 1813.052086790048\n",
      "Epoch 18: 1799.2660774976082\n",
      "Epoch 19: 1785.9562136753016\n",
      "Epoch 20: 1773.1024838801738\n",
      "Epoch 21: 1760.6891868668124\n",
      "Epoch 22: 1748.6984040662203\n",
      "Epoch 23: 1737.1138700809595\n",
      "Epoch 24: 1725.9208882119883\n",
      "Epoch 25: 1715.1045996287653\n",
      "Epoch 26: 1704.6503852187864\n",
      "Epoch 27: 1694.5447281878164\n",
      "Epoch 28: 1684.774640512564\n",
      "Epoch 29: 1675.3281234368194\n",
      "Epoch 30: 1666.1934701423827\n",
      "Epoch 31: 1657.35837137096\n",
      "Epoch 32: 1648.8119148027063\n",
      "Epoch 33: 1640.5438601484611\n",
      "Epoch 34: 1632.5446351634428\n",
      "Epoch 35: 1624.8040233693264\n",
      "Epoch 36: 1617.3129053646587\n",
      "Epoch 37: 1610.0624211200823\n",
      "Epoch 38: 1603.043352031282\n",
      "Epoch 39: 1596.2474155681473\n",
      "Epoch 40: 1589.6680405714683\n",
      "Epoch 41: 1583.2968201761444\n",
      "Epoch 42: 1577.1265113367922\n",
      "Epoch 43: 1571.1499505979675\n",
      "Epoch 44: 1565.3607776878137\n",
      "Epoch 45: 1559.752333032943\n",
      "Epoch 46: 1554.3182108093586\n",
      "Epoch 47: 1549.0529109246675\n",
      "Epoch 48: 1543.950294389966\n",
      "Epoch 49: 1539.0052030345514\n",
      "Epoch 50: 1534.211810736784\n",
      "Epoch 51: 1529.5653106286413\n",
      "Epoch 52: 1525.060756679447\n",
      "Epoch 53: 1520.6932718452688\n",
      "Epoch 54: 1516.4585958705507\n",
      "Epoch 55: 1512.35224741406\n",
      "Epoch 56: 1508.3698241783395\n",
      "Epoch 57: 1504.5070940076064\n",
      "Epoch 58: 1500.7601274849758\n",
      "Epoch 59: 1497.1261159527514\n",
      "Epoch 60: 1493.6002114154398\n",
      "Epoch 61: 1490.179360341835\n",
      "Epoch 62: 1486.860564333409\n",
      "Epoch 63: 1483.6398019865378\n",
      "Epoch 64: 1480.5144128592663\n",
      "Epoch 65: 1477.4813340591445\n",
      "Epoch 66: 1474.5372722852267\n",
      "Epoch 67: 1471.679916757026\n",
      "Epoch 68: 1468.9062986035078\n",
      "Epoch 69: 1466.213667031555\n",
      "Epoch 70: 1463.59953585409\n",
      "Epoch 71: 1461.061369290664\n",
      "Epoch 72: 1458.5970781163446\n",
      "Epoch 73: 1456.2041586896494\n",
      "Epoch 74: 1453.8805781341202\n",
      "Epoch 75: 1451.6243047292921\n",
      "Epoch 76: 1449.4329119754645\n",
      "Epoch 77: 1447.3042717771382\n",
      "Epoch 78: 1445.2368480320147\n",
      "Epoch 79: 1443.2288633664991\n",
      "Epoch 80: 1441.2784624272138\n",
      "Epoch 81: 1439.3831203141738\n",
      "Epoch 82: 1437.5422924575619\n",
      "Epoch 83: 1435.7535391651272\n",
      "Epoch 84: 1434.0163225326687\n",
      "Epoch 85: 1432.3278250216197\n",
      "Epoch 86: 1430.6871300226167\n",
      "Epoch 87: 1429.0927324474212\n",
      "Epoch 88: 1427.5436893536576\n",
      "Epoch 89: 1426.038052466299\n",
      "Epoch 90: 1424.5748595488924\n",
      "Epoch 91: 1423.1531527273003\n",
      "Epoch 92: 1421.7709907484907\n",
      "Epoch 93: 1420.4274136828524\n",
      "Epoch 94: 1419.1215814855836\n",
      "Epoch 95: 1417.8526324714933\n",
      "Epoch 96: 1416.6188111411673\n",
      "Epoch 97: 1415.419371357986\n",
      "Epoch 98: 1414.253437639702\n",
      "Epoch 99: 1413.1201371628613\n"
     ]
    }
   ],
   "source": [
    "with tf.Session() as sess:\n",
    "    # Step 7: initialize the necessary variables, in this case, w and b\n",
    "    sess.run(tf.global_variables_initializer()) \n",
    "    \n",
    "    writer = tf.summary.FileWriter('./my_graph', sess.graph)\n",
    "    \n",
    "    # Step 8: train the model\n",
    "    for i in range(100): # train the model 100 epochs\n",
    "        total_loss = 0\n",
    "        for x, y in data:\n",
    "            # Session runs train_op and fetch values of loss\n",
    "            _, l = sess.run([optimizer, loss], feed_dict={X: x, Y:y}) \n",
    "            total_loss += l\n",
    "        print('Epoch {0}: {1}'.format(i, total_loss/n_samples))\n",
    "\n",
    "    # close the writer when you're done using it\n",
    "    writer.close() \n",
    "    \n",
    "    # Step 9: output the values of w and b\n",
    "    w, b = sess.run([w, b]) "
   ]
  },
  {
   "cell_type": "code",
   "execution_count": 5,
   "metadata": {
    "scrolled": true
   },
   "outputs": [
    {
     "data": {
      "image/png": "[encoded data removed]",
      "text/plain": [
       "<matplotlib.figure.Figure at 0x2086b990d30>"
      ]
     },
     "metadata": {},
     "output_type": "display_data"
    }
   ],
   "source": [
    "# plot the results\n",
    "X, Y = data.T[0], data.T[1]\n",
    "plt.plot(X, Y, 'bo', label='Real data')\n",
    "plt.plot(X, X * w + b, 'r', label='Predicted data')\n",
    "plt.legend()\n",
    "plt.show()"
   ]
  },
  {
   "cell_type": "code",
   "execution_count": 62,
   "metadata": {
    "collapsed": true
   },
   "outputs": [],
   "source": [
    "tf.reset_default_graph()"
   ]
  },
  {
   "cell_type": "code",
   "execution_count": 63,
   "metadata": {
    "collapsed": true
   },
   "outputs": [],
   "source": [
    "# Step 2: create placeholders for input X (number of fire) and label Y (number of theft)\n",
    "X = tf.placeholder(tf.float32, name='X')\n",
    "Y = tf.placeholder(tf.float32, name='Y')\n",
    "\n",
    "# Step 3: create weight and bias, initialized to 0\n",
    "w = tf.Variable(0, dtype= tf.float32, name='weights_1')\n",
    "u = tf.Variable(0, dtype= tf.float32, name='weights_2')\n",
    "b = tf.Variable(0, dtype= tf.float32, name='bias')\n",
    "\n",
    "# Step 4: build model to predict Y\n",
    "Y_predicted = X * X * w + X * u +b\n",
    "\n",
    "# Step 5: use the square error as the loss function\n",
    "loss = tf.reduce_sum(tf.square(Y - Y_predicted), name='loss')\n",
    "\n",
    "\n",
    "# Step 6: using gradient descent with learning rate of 0.01 to minimize loss\n",
    "optimizer = tf.train.AdamOptimizer(learning_rate=0.01).minimize(loss)  \n",
    "## GradientDescentOptimizer dont converge"
   ]
  },
  {
   "cell_type": "code",
   "execution_count": 64,
   "metadata": {},
   "outputs": [
    {
     "name": "stdout",
     "output_type": "stream",
     "text": [
      "Epoch 0: 810.4471694401333\n",
      "Epoch 1: 722.6876044784274\n",
      "Epoch 2: 699.244873943783\n",
      "Epoch 3: 679.9539763359796\n",
      "Epoch 4: 663.1458480925787\n",
      "Epoch 5: 647.5723329271589\n",
      "Epoch 6: 633.1984935260955\n",
      "Epoch 7: 619.9250605219886\n",
      "Epoch 8: 607.6653153328668\n",
      "Epoch 9: 596.3391474088033\n"
     ]
    }
   ],
   "source": [
    "with tf.Session() as sess:\n",
    "    # Step 7: initialize the necessary variables, in this case, w and b\n",
    "    sess.run(tf.global_variables_initializer()) \n",
    "    \n",
    "    writer = tf.summary.FileWriter('./my_graph', sess.graph)\n",
    "    \n",
    "    # Step 8: train the model\n",
    "    for i in range(10): # train the model 100 epochs\n",
    "        total_loss = 0\n",
    "        for x, y in data:\n",
    "            # Session runs train_op and fetch values of loss\n",
    "            _, l = sess.run([optimizer, loss], feed_dict={X: x, Y:y}) \n",
    "            total_loss += l\n",
    "        print('Epoch {0}: {1}'.format(i, total_loss/n_samples))\n",
    "\n",
    "    # close the writer when you're done using it\n",
    "    writer.close() \n",
    "    \n",
    "    # Step 9: output the values of w and b\n",
    "    w,u, b = sess.run([w, u, b]) "
   ]
  },
  {
   "cell_type": "code",
   "execution_count": 65,
   "metadata": {},
   "outputs": [
    {
     "data": {
      "text/plain": [
       "0.044176158"
      ]
     },
     "execution_count": 65,
     "metadata": {},
     "output_type": "execute_result"
    }
   ],
   "source": [
    "w"
   ]
  },
  {
   "cell_type": "code",
   "execution_count": 66,
   "metadata": {},
   "outputs": [
    {
     "data": {
      "text/plain": [
       "0.69172853"
      ]
     },
     "execution_count": 66,
     "metadata": {},
     "output_type": "execute_result"
    }
   ],
   "source": [
    "u"
   ]
  },
  {
   "cell_type": "code",
   "execution_count": 67,
   "metadata": {},
   "outputs": [
    {
     "data": {
      "text/plain": [
       "2.1479712"
      ]
     },
     "execution_count": 67,
     "metadata": {},
     "output_type": "execute_result"
    }
   ],
   "source": [
    "b"
   ]
  },
  {
   "cell_type": "code",
   "execution_count": 71,
   "metadata": {},
   "outputs": [
    {
     "data": {
      "image/png": "[encoded data removed]",
      "text/plain": [
       "<matplotlib.figure.Figure at 0x208870d51d0>"
      ]
     },
     "metadata": {},
     "output_type": "display_data"
    }
   ],
   "source": [
    "# plot the results\n",
    "X, Y = data.T[0], data.T[1]\n",
    "plt.plot(X, Y, 'bo', label='Real data')\n",
    "plt.plot(X, X * X * w + X * u +b, 'ro', label='Predicted data')\n",
    "plt.legend()\n",
    "plt.grid()\n",
    "plt.show()"
   ]
  },
  {
   "cell_type": "code",
   "execution_count": null,
   "metadata": {
    "collapsed": true
   },
   "outputs": [],
   "source": []
  }
 ],
 "metadata": {
  "kernelspec": {
   "display_name": "Python 3",
   "language": "python",
   "name": "python3"
  },
  "language_info": {
   "codemirror_mode": {
    "name": "ipython",
    "version": 3
   },
   "file_extension": ".py",
   "mimetype": "text/x-python",
   "name": "python",
   "nbconvert_exporter": "python",
   "pygments_lexer": "ipython3",
   "version": "3.5.4"
  }
 },
 "nbformat": 4,
 "nbformat_minor": 2
}
